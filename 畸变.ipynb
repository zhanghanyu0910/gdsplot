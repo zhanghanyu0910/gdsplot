{
 "cells": [
  {
   "cell_type": "markdown",
   "id": "bc5d8ff5-bf55-43f6-b516-3b774a71aada",
   "metadata": {},
   "source": [
    "# 同心正方形靶"
   ]
  },
  {
   "cell_type": "code",
   "execution_count": 2,
   "id": "1ca05a6b-b9f1-4179-ac65-b9555e911126",
   "metadata": {},
   "outputs": [
    {
     "name": "stdout",
     "output_type": "stream",
     "text": [
      "同心正方形靶子（只包含边框）已生成并保存为 'concentric_squares_with_borders.gds'。\n"
     ]
    }
   ],
   "source": [
    "import gdspy\n",
    "\n",
    "# 正方形的宽度列表（单位：毫米）\n",
    "widths = [0.1, 0.25, 0.5, 1, 2, 3, 4, 5, 10, 15, 20, 30, 40, 50]\n",
    "\n",
    "# 创建一个新的图层\n",
    "cell = gdspy.Cell(\"Concentric_Squares\")\n",
    "\n",
    "# 设置同心正方形的中心位置\n",
    "center = (0, 0)\n",
    "\n",
    "# 边框宽度（单位：毫米），这个值需要根据实际情况调整，以避免重叠\n",
    "border_width = 0.05  # 可以调整这个值\n",
    "\n",
    "# 初始化外部正方形的尺寸\n",
    "external_size = 0\n",
    "\n",
    "# 依次绘制每个正方形的边框\n",
    "for width in widths:\n",
    "    # 计算当前正方形的外边界尺寸\n",
    "    external_size += width\n",
    "    # 计算内部正方形的尺寸（创建边框效果）\n",
    "    internal_size = external_size - border_width\n",
    "\n",
    "    # 创建外部正方形\n",
    "    outer_square = gdspy.Rectangle(\n",
    "        (center[0] - external_size/2, center[1] - external_size/2),\n",
    "        (center[0] + external_size/2, center[1] + external_size/2)\n",
    "    )\n",
    "\n",
    "    if internal_size > 0:  # 确保内部正方形的尺寸是正的\n",
    "        # 创建内部正方形\n",
    "        inner_square = gdspy.Rectangle(\n",
    "            (center[0] - internal_size/2, center[1] - internal_size/2),\n",
    "            (center[0] + internal_size/2, center[1] + internal_size/2)\n",
    "        )\n",
    "        # 使用布尔运算从外部正方形中减去内部正方形，留下边框\n",
    "        square_border = gdspy.boolean(outer_square, inner_square, \"not\")\n",
    "        cell.add(square_border)\n",
    "    else:\n",
    "        # 如果内部正方形的尺寸不正，则只添加外部正方形\n",
    "        cell.add(outer_square)\n",
    "\n",
    "    # 更新下一个正方形的起始尺寸\n",
    "    external_size += border_width\n",
    "\n",
    "# 保存GDS文件\n",
    "gdspy.write_gds(\"concentric_squares_with_borders.gds\")\n",
    "\n",
    "print(\"同心正方形靶子（只包含边框）已生成并保存为 'concentric_squares_with_borders.gds'。\")\n"
   ]
  },
  {
   "cell_type": "code",
   "execution_count": 8,
   "id": "6dd0425c-215d-4264-9e45-c8de712cfd2a",
   "metadata": {},
   "outputs": [],
   "source": [
    "import gdspy\n",
    "from datetime import datetime\n",
    "# 创建一个新的图层\n",
    "\n",
    "unique_name =  datetime.now().strftime(\"%Y%m%d%H%M%S\")\n",
    "cell = gdspy.Cell(unique_name)\n",
    "# 设置正方形的中心位置\n",
    "center = (0, 0)\n",
    "\n",
    "# 正方形外边界的尺寸（单位：毫米）\n",
    "external_size = 10  # 以10mm为例\n",
    "\n",
    "# 边框宽度（单位：毫米）\n",
    "border_width = 0.5  # 可以调整这个值\n",
    "\n",
    "# 计算内部正方形的尺寸（创建边框效果）\n",
    "internal_size = external_size - border_width * 2\n",
    "\n",
    "# 创建外部正方形\n",
    "outer_square = gdspy.Rectangle(\n",
    "    (center[0] - external_size / 2, center[1] - external_size / 2),\n",
    "    (center[0] + external_size / 2, center[1] + external_size / 2)\n",
    ")\n",
    "\n",
    "# 创建内部正方形\n",
    "inner_square = gdspy.Rectangle(\n",
    "    (center[0] - internal_size / 2, center[1] - internal_size / 2),\n",
    "    (center[0] + internal_size / 2, center[1] + internal_size / 2)\n",
    ")\n",
    "\n",
    "# 使用布尔运算从外部正方形中减去内部正方形，留下边框\n",
    "square_border = gdspy.boolean(outer_square, inner_square, \"not\")\n",
    "\n",
    "# 将边框添加到图层\n",
    "cell.add(square_border)\n",
    "\n",
    "# 使用内置的查看器查看结果\n",
    "gdspy.write_gds(\"test.gds\")\n"
   ]
  },
  {
   "cell_type": "code",
   "execution_count": 6,
   "id": "a6a4fb71-ff4b-4971-b183-ec091e59f513",
   "metadata": {},
   "outputs": [
    {
     "data": {
      "text/plain": [
       "Rectangle((-5.0, -5.0), (5.0, 5.0), 0, 0)"
      ]
     },
     "execution_count": 6,
     "metadata": {},
     "output_type": "execute_result"
    }
   ],
   "source": [
    "outer_square"
   ]
  },
  {
   "cell_type": "code",
   "execution_count": 7,
   "id": "4e3b3dcc-226b-42ca-a973-c6c4897c1dc5",
   "metadata": {},
   "outputs": [
    {
     "data": {
      "text/plain": [
       "Rectangle((-4.5, -4.5), (4.5, 4.5), 0, 0)"
      ]
     },
     "execution_count": 7,
     "metadata": {},
     "output_type": "execute_result"
    }
   ],
   "source": [
    "inner_square"
   ]
  },
  {
   "cell_type": "code",
   "execution_count": null,
   "id": "4154f794-e58c-4102-a5ca-ecfbd4b463ab",
   "metadata": {},
   "outputs": [],
   "source": []
  }
 ],
 "metadata": {
  "kernelspec": {
   "display_name": "Python 3 (ipykernel)",
   "language": "python",
   "name": "python3"
  },
  "language_info": {
   "codemirror_mode": {
    "name": "ipython",
    "version": 3
   },
   "file_extension": ".py",
   "mimetype": "text/x-python",
   "name": "python",
   "nbconvert_exporter": "python",
   "pygments_lexer": "ipython3",
   "version": "3.12.2"
  }
 },
 "nbformat": 4,
 "nbformat_minor": 5
}
