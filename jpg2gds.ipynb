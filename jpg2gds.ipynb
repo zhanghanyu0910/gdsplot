{
 "cells": [
  {
   "cell_type": "code",
   "execution_count": 3,
   "id": "977cba2f-a785-4c2f-aa15-8ad7fbc94b6c",
   "metadata": {},
   "outputs": [],
   "source": [
    "import gdspy\n",
    "from PIL import Image\n",
    "\n",
    "def convert_image_to_gds(image_path, output_path, pixel_size_um):\n",
    "    # Load image\n",
    "    img = Image.open(image_path)\n",
    "    width, height = img.size\n",
    "\n",
    "    # Calculate size of each pixel in GDS units (1 um = 1e-6 meters)\n",
    "    pixel_size_m = pixel_size_um * 1e-6\n",
    "    pixel_width = pixel_size_m * width\n",
    "    pixel_height = pixel_size_m * height\n",
    "\n",
    "    # Create new layout\n",
    "    layout = gdspy.Cell('IMAGE')\n",
    "\n",
    "    # Iterate over each pixel\n",
    "    for y in range(height):\n",
    "        for x in range(width):\n",
    "            # Get pixel color\n",
    "            color = img.getpixel((x, y))\n",
    "\n",
    "            # Calculate position of pixel\n",
    "            pos_x = x * pixel_width\n",
    "            pos_y = (height - y) * pixel_height  # Invert y-axis\n",
    "\n",
    "            # Create rectangle for each pixel\n",
    "            rectangle = gdspy.Rectangle((pos_x, pos_y), (pos_x + pixel_width, pos_y + pixel_height), layer=0)\n",
    "            layout.add(rectangle)\n",
    "\n",
    "    # Write layout to GDS file\n",
    "    gdspy.write_gds(output_path)\n",
    "\n",
    "# Example usage\n",
    "image_path = 'ustc-logo.jpg'\n",
    "output_path = 'output_layout.gds'\n",
    "pixel_size_um = 1  # Adjust this value according to your requirement\n",
    "\n",
    "convert_image_to_gds(image_path, output_path, pixel_size_um)\n"
   ]
  },
  {
   "cell_type": "code",
   "execution_count": null,
   "id": "702d030b-3b3d-4f41-868e-b00bbbf355cc",
   "metadata": {},
   "outputs": [],
   "source": []
  }
 ],
 "metadata": {
  "kernelspec": {
   "display_name": "Python 3 (ipykernel)",
   "language": "python",
   "name": "python3"
  },
  "language_info": {
   "codemirror_mode": {
    "name": "ipython",
    "version": 3
   },
   "file_extension": ".py",
   "mimetype": "text/x-python",
   "name": "python",
   "nbconvert_exporter": "python",
   "pygments_lexer": "ipython3",
   "version": "3.12.2"
  }
 },
 "nbformat": 4,
 "nbformat_minor": 5
}
