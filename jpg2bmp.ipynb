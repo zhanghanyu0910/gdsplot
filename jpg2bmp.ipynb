{
 "cells": [
  {
   "cell_type": "code",
   "execution_count": 2,
   "id": "1f491cb8-1368-4f21-8511-0961824908ad",
   "metadata": {},
   "outputs": [
    {
     "name": "stdout",
     "output_type": "stream",
     "text": [
      "转换成功！\n"
     ]
    }
   ],
   "source": [
    "from PIL import Image\n",
    "\n",
    "def convert_to_bw(input_image_path, output_image_path):\n",
    "    try:\n",
    "        # 打开图像文件\n",
    "        img = Image.open(input_image_path)\n",
    "\n",
    "        # 将图像转换为灰度模式（黑白）\n",
    "        bw_img = img.convert(\"L\")\n",
    "\n",
    "        # 保存为BMP格式\n",
    "        bw_img.save(output_image_path)\n",
    "        print(\"转换成功！\")\n",
    "    except Exception as e:\n",
    "        print(\"转换失败:\", e)\n",
    "\n",
    "# 示例用法\n",
    "input_image_path = \"Concentric_Square_Target_R3L3S3P_A1-780.jpg\"  # 输入图像的路径\n",
    "output_image_path = \"Concentric_Square_Target_R3L3S3P_A1-780.bmp\"  # 输出BMP图像的路径\n",
    "\n",
    "convert_to_bw(input_image_path, output_image_path)\n"
   ]
  },
  {
   "cell_type": "code",
   "execution_count": 3,
   "id": "3ae56d04-d352-48dd-baf7-45b55858ded0",
   "metadata": {},
   "outputs": [
    {
     "name": "stdout",
     "output_type": "stream",
     "text": [
      "转换成功！输出文件位于: Concentric_Square_Target_R3L3S3P_A1-780_bw.bmp\n"
     ]
    }
   ],
   "source": [
    "from PIL import Image\n",
    "import os\n",
    "\n",
    "def convert_to_bw(input_image_path, output_image_suffix='_bw.bmp'):\n",
    "    try:\n",
    "        # 打开图像文件\n",
    "        img = Image.open(input_image_path)\n",
    "\n",
    "        # 将图像转换为灰度模式（黑白）\n",
    "        bw_img = img.convert(\"L\")\n",
    "\n",
    "        # 应用二值化阈值，将图像转换为二值图像\n",
    "        # 这里的阈值设置为128，是灰度级别的中点，可以根据需要调整\n",
    "        threshold = 128\n",
    "        bw_img = bw_img.point(lambda x: 0 if x < threshold else 255, '1')\n",
    "\n",
    "        # 构建输出图像路径\n",
    "        base, ext = os.path.splitext(input_image_path)\n",
    "        output_image_path = base + output_image_suffix\n",
    "\n",
    "        # 保存为BMP格式\n",
    "        bw_img.save(output_image_path, \"BMP\")\n",
    "        print(\"转换成功！输出文件位于:\", output_image_path)\n",
    "    except Exception as e:\n",
    "        print(\"转换失败:\", e)\n",
    "\n",
    "# 示例用法\n",
    "input_image_path = \"Concentric_Square_Target_R3L3S3P_A1-780.jpg\"  # 输入图像的路径\n",
    "\n",
    "convert_to_bw(input_image_path)\n"
   ]
  },
  {
   "cell_type": "code",
   "execution_count": null,
   "id": "be5f856d-c2ce-44ae-acf5-e57fb27da2ad",
   "metadata": {},
   "outputs": [],
   "source": []
  }
 ],
 "metadata": {
  "kernelspec": {
   "display_name": "Python 3 (ipykernel)",
   "language": "python",
   "name": "python3"
  },
  "language_info": {
   "codemirror_mode": {
    "name": "ipython",
    "version": 3
   },
   "file_extension": ".py",
   "mimetype": "text/x-python",
   "name": "python",
   "nbconvert_exporter": "python",
   "pygments_lexer": "ipython3",
   "version": "3.12.2"
  }
 },
 "nbformat": 4,
 "nbformat_minor": 5
}
